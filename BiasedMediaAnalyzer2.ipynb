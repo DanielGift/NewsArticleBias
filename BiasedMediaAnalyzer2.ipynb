{
 "cells": [
  {
   "cell_type": "code",
   "execution_count": 1,
   "metadata": {},
   "outputs": [],
   "source": [
    "#import statements\n",
    "import pandas as pd\n",
    "import numpy as np\n",
    "from sklearn.model_selection import train_test_split\n",
    "from collections import Counter\n",
    "\n",
    "from sklearn.feature_extraction.text import TfidfVectorizer\n",
    "from sklearn.feature_extraction import text\n",
    "from sklearn.feature_extraction.text import CountVectorizer\n",
    "# import nltk\n",
    "# from nltk.corpus import stopwords\n",
    "# from nltk.stem import WordNetLemmatizer\n",
    "# import string\n",
    "# from sklearn.preprocessing import LabelEncoder\n",
    "# nltk.download('punkt')\n",
    "# nltk.download('averaged_perceptron_tagger')\n",
    "# nltk.download('wordnet')\n",
    "# from nltk.corpus import stopwords\n",
    "# sw = (stopwords.words('english'))\n",
    "# import nltk\n",
    "# from nltk.tag import pos_tag\n",
    "# from nltk.tokenize import RegexpTokenizer\n",
    "# from sklearn.feature_extraction.text import CountVectorizer\n",
    "# from sklearn.model_selection import train_test_split\n",
    "from sklearn.feature_extraction.text import TfidfTransformer\n",
    "# from sklearn.naive_bayes import MultinomialNB\n",
    "from sklearn import svm\n",
    "# from sklearn.model_selection import GridSearchCV\n",
    "from sklearn.metrics import confusion_matrix\n",
    "# import numpy as np\n",
    "import itertools\n",
    "import matplotlib.pyplot as plt\n",
    "from sklearn.metrics import classification_report\n",
    "from sklearn.metrics import plot_confusion_matrix\n",
    "import pickle"
   ]
  },
  {
   "cell_type": "code",
   "execution_count": 2,
   "metadata": {},
   "outputs": [],
   "source": [
    "#Read in the lemmtized data\n",
    "smallData = pd.read_csv(\"lemmatizedArticles.csv\")"
   ]
  },
  {
   "cell_type": "code",
   "execution_count": 3,
   "metadata": {},
   "outputs": [],
   "source": [
    "#Use only articles of sizable length\n",
    "minLemmaLen = 100\n",
    "smallerData = smallData[smallData[\"len\"]>minLemmaLen]"
   ]
  },
  {
   "cell_type": "code",
   "execution_count": 4,
   "metadata": {},
   "outputs": [
    {
     "name": "stdout",
     "output_type": "stream",
     "text": [
      "Number of Very Right articles:  51111\n",
      "Number of Slightly Right articles:  39317\n",
      "Number of Center Articles:  21734\n",
      "Number of Slightly Left articles:  32076\n",
      "Number of Very Left articles:  28862\n"
     ]
    }
   ],
   "source": [
    "#Split articles into their respective bias categories\n",
    "vr = smallerData[smallerData[\"Rating\"]==2]\n",
    "sr = smallerData[smallerData[\"Rating\"]==1]\n",
    "c = smallerData[smallerData[\"Rating\"]==0]\n",
    "sl = smallerData[smallerData[\"Rating\"]==-1]\n",
    "vl = smallerData[smallerData[\"Rating\"]==-2]\n",
    "print(\"Number of Very Right articles: \",len(vr))\n",
    "print(\"Number of Slightly Right articles: \",len(sr))\n",
    "print(\"Number of Center Articles: \",len(c))\n",
    "print(\"Number of Slightly Left articles: \",len(sl))\n",
    "print(\"Number of Very Left articles: \",len(vl))\n"
   ]
  },
  {
   "cell_type": "code",
   "execution_count": 5,
   "metadata": {},
   "outputs": [
    {
     "name": "stdout",
     "output_type": "stream",
     "text": [
      "Total number of articles analyzed:  108670  ( 21734.0  per category )\n"
     ]
    }
   ],
   "source": [
    "#Get an equal subset from each category\n",
    "sn=min(len(vr),len(sr),len(c),len(sl),len(vl))\n",
    "newData = pd.concat([vr.sample(n=sn),sr.sample(n=sn),c.sample(n=sn),sl.sample(n=sn),vl.sample(n=sn)])\n",
    "print(\"Total number of articles analyzed: \",len(newData),\" (\",len(newData)/5,\" per category )\")"
   ]
  },
  {
   "cell_type": "code",
   "execution_count": 6,
   "metadata": {},
   "outputs": [],
   "source": [
    "#Function to rejoin all our lemmatized words into a string\n",
    "def proc(tex):\n",
    "    return \" \".join(tex)\n",
    "\n",
    "#Get our X values and y values. \n",
    "X = newData['lemText']\n",
    "#First, try to put all articles in the proper of the 5 categories\n",
    "y = (newData['Rating'])"
   ]
  },
  {
   "cell_type": "code",
   "execution_count": 25,
   "metadata": {},
   "outputs": [],
   "source": [
    "#Bag of words analysis\n",
    "#Create analyzer\n",
    "transModel = CountVectorizer()\n",
    "transModel.fit(X) #fit it\n",
    "bow_transformer=transModel.transform(X)\n",
    "X_train, X_test, y_train, y_test = train_test_split(bow_transformer, y\n",
    "                                  ,test_size=0.1, random_state=1234) #Split into training and test sets\n",
    "pickle.dump(transModel,open('countVectorizerModel.sav','wb')) #Save vectorizer"
   ]
  },
  {
   "cell_type": "code",
   "execution_count": 49,
   "metadata": {},
   "outputs": [
    {
     "name": "stdout",
     "output_type": "stream",
     "text": [
      "['successful', 'military', 'campaign', 'bring', 'swift', 'justice', 'leader', 'al', 'clearly', 'big', 'big', 'victory', 'surrender', 'world', 'wanted', 'terrorist', 'tugged', 'suicide', 'vest', 'blew', 'piece', 'made', 'sure', 'blast', 'killed', 'child', 'medium', 'coverage', 'easily', 'predicted', 'news', 'disappeared', 'absolutely', 'everything', 'need', 'put', 'political', 'filter', 'took', 'bin', 'journalist', 'hailed', 'proven', 'master', 'commander', 'simply', 'true', 'nothing', 'proven', 'military', 'prowess', 'tell', 'friend', 'tried', 'tried', 'one', 'courage', 'gut', 'coolness', 'took', 'chance', 'oozed', 'turned', 'ran', 'incredible', 'incredible', 'raid', 'wrote', 'columnist', 'proved', 'vividly', 'almost', 'biblical', 'term', 'effective', 'commander', 'chief', 'gushed', 'supportive', 'respected', 'military', 'spin', 'elimination', 'al', 'also', 'predictable', 'journalist', 'pundit', 'gritted', 'teeth', 'acknowledged', 'mission', 'reflected', 'well', 'approving', 'mission', 'lasted', 'minute', 'came', 'parade', 'stop', 'impeachment', 'stop', 'specific', 'mission', 'thanked', 'first', 'inform', 'mission', 'president', 'raw', 'describing', 'dead', 'terrorist', 'whining', 'whimpering', 'trashed', 'hotdogging', 'destroying', 'chance', 'national', 'unity', 'turned', 'weird', 'kind', 'torture', 'host', 'asked', 'least', 'agree', 'world', 'better', 'place', 'guy', 'nastily', 'responded', 'one', 'crowd', 'roared', 'approval', 'medium', 'mission', 'never', 'change', 'shower', 'president', 'negativity', 'overwhelming', 'sense', 'horror', 'loving', 'medium', 'cannot', 'admit', 'run', 'took', 'office', 'drew', 'harsh', 'coverage', 'network', 'dismissed', 'rise', 'basketball', 'metaphor', 'team', 'even', 'alleged', 'amateur', 'took', 'control', 'area', 'size', 'largest', 'terrorist', 'sanctuary', 'history', 'using', 'violent', 'extreme', 'form', 'terrorism', 'history', 'month', 'era', 'ordering', 'relentless', 'military', 'pressure', 'caliphate', 'collapsed', 'lost', 'home', 'base', 'network', 'news', 'said', 'almost', 'nothing', 'instead', 'unspooled', 'thousand', 'minute', 'accusatory', 'coverage', 'russian', 'collusion', 'broadcast', 'network', 'evening', 'newscast', 'gave', 'minute', 'trump', 'winning', 'war', 'third', 'percent', 'coverage', 'dramatic', 'medium', 'suppression', 'allowed', 'dismiss', 'win', 'american', 'psyche', 'bin', 'ant', 'elephant', 'average', 'american', 'idea', 'leader', 'journalist', 'busy', 'pushing', 'prof', 'medium', 'primarily', 'interested', 'fact', 'journalist', 'channel', 'emotion', 'pretend', 'fact', 'emotionally', 'cannot', 'tolerate', 'idea', 'complimenting', 'president', 'success', 'failure', 'political', 'demise', 'always', 'first', 'goal', 'fact', 'getting', 'way']\n",
      "<class 'str'>\n",
      "2753\n",
      "  (0, 0)\t3014\n",
      "  (0, 2)\t526\n",
      "  (0, 3)\t262\n",
      "  (0, 15)\t1\n",
      "  (0, 16)\t1\n",
      "  (0, 18)\t123\n",
      "  (0, 19)\t20\n",
      "  (0, 20)\t66\n",
      "  (0, 21)\t83\n",
      "  (0, 22)\t208\n",
      "  (0, 23)\t20\n",
      "  (0, 24)\t45\n",
      "  (0, 25)\t35\n",
      "  (0, 26)\t151\n",
      "  (0, 27)\t5\n",
      "  (0, 28)\t13\n",
      "  (0, 29)\t86\n",
      "  (0, 30)\t62\n",
      "  (0, 31)\t116\n",
      "  (0, 32)\t108\n",
      "  (0, 33)\t50\n",
      "  (0, 35)\t135\n",
      "  (0, 36)\t112\n",
      "  (0, 37)\t131\n",
      "  (0, 38)\t49\n",
      "  (0, 39)\t25\n",
      "  (0, 40)\t29\n",
      "  (0, 41)\t1\n",
      "  (0, 42)\t26\n",
      "  (0, 43)\t2\n"
     ]
    },
    {
     "ename": "AttributeError",
     "evalue": "values not found",
     "output_type": "error",
     "traceback": [
      "\u001b[0;31m---------------------------------------------------------------------------\u001b[0m",
      "\u001b[0;31mAttributeError\u001b[0m                            Traceback (most recent call last)",
      "\u001b[0;32m<ipython-input-49-d62442619620>\u001b[0m in \u001b[0;36m<module>\u001b[0;34m\u001b[0m\n\u001b[1;32m      4\u001b[0m \u001b[0mx1x\u001b[0m \u001b[0;34m=\u001b[0m \u001b[0;34m(\u001b[0m\u001b[0mtransModel\u001b[0m\u001b[0;34m.\u001b[0m\u001b[0mtransform\u001b[0m\u001b[0;34m(\u001b[0m\u001b[0mX\u001b[0m\u001b[0;34m.\u001b[0m\u001b[0mhead\u001b[0m\u001b[0;34m(\u001b[0m\u001b[0;36m1\u001b[0m\u001b[0;34m)\u001b[0m\u001b[0;34m)\u001b[0m\u001b[0;34m)\u001b[0m\u001b[0;34m\u001b[0m\u001b[0;34m\u001b[0m\u001b[0m\n\u001b[1;32m      5\u001b[0m \u001b[0mprint\u001b[0m\u001b[0;34m(\u001b[0m\u001b[0mx1x\u001b[0m\u001b[0;34m)\u001b[0m\u001b[0;34m\u001b[0m\u001b[0;34m\u001b[0m\u001b[0m\n\u001b[0;32m----> 6\u001b[0;31m \u001b[0mprint\u001b[0m\u001b[0;34m(\u001b[0m\u001b[0mlen\u001b[0m\u001b[0;34m(\u001b[0m\u001b[0mx1x\u001b[0m\u001b[0;34m.\u001b[0m\u001b[0mvalues\u001b[0m\u001b[0;34m[\u001b[0m\u001b[0;36m0\u001b[0m\u001b[0;34m]\u001b[0m\u001b[0;34m)\u001b[0m\u001b[0;34m)\u001b[0m\u001b[0;34m\u001b[0m\u001b[0;34m\u001b[0m\u001b[0m\n\u001b[0m\u001b[1;32m      7\u001b[0m \u001b[0mprint\u001b[0m\u001b[0;34m(\u001b[0m\u001b[0mmodel\u001b[0m\u001b[0;34m.\u001b[0m\u001b[0mpredict\u001b[0m\u001b[0;34m(\u001b[0m\u001b[0mx1x\u001b[0m\u001b[0;34m)\u001b[0m\u001b[0;34m)\u001b[0m\u001b[0;34m\u001b[0m\u001b[0;34m\u001b[0m\u001b[0m\n\u001b[1;32m      8\u001b[0m \u001b[0mprint\u001b[0m\u001b[0;34m(\u001b[0m\u001b[0mnewData\u001b[0m\u001b[0;34m[\u001b[0m\u001b[0;34m\"URL\"\u001b[0m\u001b[0;34m]\u001b[0m\u001b[0;34m.\u001b[0m\u001b[0mvalues\u001b[0m\u001b[0;34m[\u001b[0m\u001b[0;36m0\u001b[0m\u001b[0;34m]\u001b[0m\u001b[0;34m)\u001b[0m\u001b[0;34m\u001b[0m\u001b[0;34m\u001b[0m\u001b[0m\n",
      "\u001b[0;32m~/anaconda3/lib/python3.8/site-packages/scipy/sparse/base.py\u001b[0m in \u001b[0;36m__getattr__\u001b[0;34m(self, attr)\u001b[0m\n\u001b[1;32m    685\u001b[0m             \u001b[0;32mreturn\u001b[0m \u001b[0mself\u001b[0m\u001b[0;34m.\u001b[0m\u001b[0mgetnnz\u001b[0m\u001b[0;34m(\u001b[0m\u001b[0;34m)\u001b[0m\u001b[0;34m\u001b[0m\u001b[0;34m\u001b[0m\u001b[0m\n\u001b[1;32m    686\u001b[0m         \u001b[0;32melse\u001b[0m\u001b[0;34m:\u001b[0m\u001b[0;34m\u001b[0m\u001b[0;34m\u001b[0m\u001b[0m\n\u001b[0;32m--> 687\u001b[0;31m             \u001b[0;32mraise\u001b[0m \u001b[0mAttributeError\u001b[0m\u001b[0;34m(\u001b[0m\u001b[0mattr\u001b[0m \u001b[0;34m+\u001b[0m \u001b[0;34m\" not found\"\u001b[0m\u001b[0;34m)\u001b[0m\u001b[0;34m\u001b[0m\u001b[0;34m\u001b[0m\u001b[0m\n\u001b[0m\u001b[1;32m    688\u001b[0m \u001b[0;34m\u001b[0m\u001b[0m\n\u001b[1;32m    689\u001b[0m     \u001b[0;32mdef\u001b[0m \u001b[0mtranspose\u001b[0m\u001b[0;34m(\u001b[0m\u001b[0mself\u001b[0m\u001b[0;34m,\u001b[0m \u001b[0maxes\u001b[0m\u001b[0;34m=\u001b[0m\u001b[0;32mNone\u001b[0m\u001b[0;34m,\u001b[0m \u001b[0mcopy\u001b[0m\u001b[0;34m=\u001b[0m\u001b[0;32mFalse\u001b[0m\u001b[0;34m)\u001b[0m\u001b[0;34m:\u001b[0m\u001b[0;34m\u001b[0m\u001b[0;34m\u001b[0m\u001b[0m\n",
      "\u001b[0;31mAttributeError\u001b[0m: values not found"
     ]
    }
   ],
   "source": [
    "#Create small subsets to optimize parameters on; create X_small_train and X_small_test,\n",
    "#Both about 1% of the total dataset\n",
    "X_temp, X_small_train, y_temp, y_small_train = train_test_split(X_train, y_train\n",
    "                                  ,test_size=0.01, random_state=123)\n",
    "_, X_small_test, _, y_small_test = train_test_split(X_temp, y_temp\n",
    "                                  ,test_size=0.01, random_state=123)"
   ]
  },
  {
   "cell_type": "code",
   "execution_count": null,
   "metadata": {},
   "outputs": [],
   "source": [
    "#Scan grid of parameters to find optimal values for C and Gamma\n",
    "firstBestScore = 0\n",
    "firstBestC = 0\n",
    "firstBestGamma = 0\n",
    "for C in [1e-6,1e-5,1e-4,1e-3,1e-2,1e-1,1,10,100,1000,10000]:\n",
    "    for gamma in [1e-6,1e-5,1e-4,1e-3,1e-2,1e-1,1,10,100,1000,10000]:\n",
    "        print(C,gamma)\n",
    "        model = svm.SVC(C=C, kernel='rbf', gamma=gamma)\n",
    "        model.fit(X_small_train, y_small_train)\n",
    "        score = model.score(X_small_test, y_small_test)\n",
    "        \n",
    "        if score > firstBestScore:\n",
    "            firstBestC = C\n",
    "            firstBestGamma = gamma\n",
    "            firstBestScore = score\n",
    "            print(\"*\"+str(score))\n",
    "        else:\n",
    "            print(score)\n",
    "print(\"--------\")\n",
    "print(\"Best C value: \",firstBestC)\n",
    "print(\"Best Gamma value: \",firstBestGamma)\n",
    "print(\"Best score: \", firstBestScore)"
   ]
  },
  {
   "cell_type": "code",
   "execution_count": 8,
   "metadata": {},
   "outputs": [
    {
     "data": {
      "text/plain": [
       "SVC(C=10, gamma=1e-05)"
      ]
     },
     "execution_count": 8,
     "metadata": {},
     "output_type": "execute_result"
    }
   ],
   "source": [
    "#Fit the model to the full data set\n",
    "model = svm.SVC(C=firstBestC, kernel='rbf', gamma=firstBestGamma)\n",
    "model.fit(X_train, y_train)"
   ]
  },
  {
   "cell_type": "code",
   "execution_count": 9,
   "metadata": {},
   "outputs": [
    {
     "name": "stdout",
     "output_type": "stream",
     "text": [
      "0.3965215790926659\n"
     ]
    }
   ],
   "source": [
    "print(model.score(X_test,y_test))"
   ]
  },
  {
   "cell_type": "code",
   "execution_count": 10,
   "metadata": {},
   "outputs": [
    {
     "name": "stdout",
     "output_type": "stream",
     "text": [
      "              precision    recall  f1-score   support\n",
      "\n",
      "          -2       0.41      0.45      0.43      2238\n",
      "          -1       0.36      0.43      0.39      2141\n",
      "           0       0.41      0.45      0.43      2181\n",
      "           1       0.42      0.27      0.33      2120\n",
      "           2       0.39      0.38      0.39      2187\n",
      "\n",
      "    accuracy                           0.40     10867\n",
      "   macro avg       0.40      0.40      0.39     10867\n",
      "weighted avg       0.40      0.40      0.39     10867\n",
      "\n",
      "Confusion Matrix:\n",
      "[[0.44906166 0.17873101 0.15370867 0.09785523 0.12064343]\n",
      " [0.18075666 0.42503503 0.15600187 0.09294722 0.14525922]\n",
      " [0.15222375 0.16276937 0.45483723 0.08344796 0.14672169]\n",
      " [0.17264151 0.21839623 0.16462264 0.27169811 0.17264151]\n",
      " [0.15820759 0.18015546 0.18838592 0.0955647  0.37768633]]\n"
     ]
    },
    {
     "data": {
      "image/png": "[encoded data removed]",
      "text/plain": [
       "<Figure size 432x288 with 2 Axes>"
      ]
     },
     "metadata": {
      "needs_background": "light"
     },
     "output_type": "display_data"
    }
   ],
   "source": [
    "predictions = model.predict(X_test)\n",
    "# getting the Precision, Recall, F1-Score\n",
    "print(classification_report(y_test,predictions))\n",
    "disp = plot_confusion_matrix(model, X_test, y_test,\n",
    "                                 display_labels=[-2,-1,0,1,2],\n",
    "                                 cmap=plt.cm.Blues,\n",
    "                                 normalize='true')\n",
    "title=\"Confusion Matrix\"\n",
    "disp.ax_.set_title(title)\n",
    "\n",
    "print(title+\":\")\n",
    "print(disp.confusion_matrix)\n"
   ]
  },
  {
   "cell_type": "code",
   "execution_count": 11,
   "metadata": {},
   "outputs": [],
   "source": [
    "#Save the model\n",
    "pickle.dump(model,open('fullyTrainedModel.sav','wb'))\n"
   ]
  },
  {
   "cell_type": "code",
   "execution_count": 24,
   "metadata": {},
   "outputs": [
    {
     "name": "stdout",
     "output_type": "stream",
     "text": [
      "3442040\n",
      "3098128\n"
     ]
    },
    {
     "data": {
      "text/plain": [
       "array([ 0, -2,  2,  0, -1,  0,  0,  2, -2, -2])"
      ]
     },
     "execution_count": 24,
     "metadata": {},
     "output_type": "execute_result"
    }
   ],
   "source": [
    "print(bow_transformer.size)\n",
    "print(X_train.size)\n",
    "model.predict(X_test[:10])"
   ]
  },
  {
   "cell_type": "code",
   "execution_count": 141,
   "metadata": {},
   "outputs": [
    {
     "name": "stdout",
     "output_type": "stream",
     "text": [
      "Normalized confusion matrix\n",
      "[[0.43269231 0.20192308 0.16346154 0.13461538 0.06730769]\n",
      " [0.1547619  0.42857143 0.17857143 0.08333333 0.1547619 ]\n",
      " [0.12087912 0.14285714 0.48351648 0.0989011  0.15384615]\n",
      " [0.15730337 0.17977528 0.19101124 0.34831461 0.12359551]\n",
      " [0.19626168 0.25233645 0.09345794 0.14018692 0.31775701]]\n"
     ]
    },
    {
     "data": {
      "image/png": "[encoded data removed]",
      "text/plain": [
       "<Figure size 432x288 with 2 Axes>"
      ]
     },
     "metadata": {
      "needs_background": "light"
     },
     "output_type": "display_data"
    }
   ],
   "source": []
  }
 ],
 "metadata": {
  "kernelspec": {
   "display_name": "Python 3",
   "language": "python",
   "name": "python3"
  },
  "language_info": {
   "codemirror_mode": {
    "name": "ipython",
    "version": 3
   },
   "file_extension": ".py",
   "mimetype": "text/x-python",
   "name": "python",
   "nbconvert_exporter": "python",
   "pygments_lexer": "ipython3",
   "version": "3.8.5"
  }
 },
 "nbformat": 4,
 "nbformat_minor": 4
}
