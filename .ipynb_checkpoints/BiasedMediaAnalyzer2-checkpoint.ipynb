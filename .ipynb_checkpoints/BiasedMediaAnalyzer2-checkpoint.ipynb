{
 "cells": [
  {
   "cell_type": "code",
   "execution_count": 1,
   "metadata": {},
   "outputs": [],
   "source": [
    "#import statements\n",
    "import pandas as pd\n",
    "import numpy as np\n",
    "from sklearn.model_selection import train_test_split\n",
    "from collections import Counter\n",
    "\n",
    "from sklearn.feature_extraction.text import TfidfVectorizer\n",
    "from sklearn.feature_extraction import text\n",
    "from sklearn.feature_extraction.text import CountVectorizer\n",
    "# import nltk\n",
    "# from nltk.corpus import stopwords\n",
    "# from nltk.stem import WordNetLemmatizer\n",
    "# import string\n",
    "# from sklearn.preprocessing import LabelEncoder\n",
    "# nltk.download('punkt')\n",
    "# nltk.download('averaged_perceptron_tagger')\n",
    "# nltk.download('wordnet')\n",
    "# from nltk.corpus import stopwords\n",
    "# sw = (stopwords.words('english'))\n",
    "# import nltk\n",
    "# from nltk.tag import pos_tag\n",
    "# from nltk.tokenize import RegexpTokenizer\n",
    "# from sklearn.feature_extraction.text import CountVectorizer\n",
    "# from sklearn.model_selection import train_test_split\n",
    "from sklearn.feature_extraction.text import TfidfTransformer\n",
    "# from sklearn.naive_bayes import MultinomialNB\n",
    "from sklearn import svm\n",
    "# from sklearn.model_selection import GridSearchCV\n",
    "from sklearn.metrics import confusion_matrix\n",
    "# import numpy as np\n",
    "import itertools\n",
    "import matplotlib.pyplot as plt\n",
    "from sklearn.metrics import classification_report\n",
    "from sklearn.metrics import plot_confusion_matrix\n",
    "import pickle"
   ]
  },
  {
   "cell_type": "code",
   "execution_count": 2,
   "metadata": {},
   "outputs": [],
   "source": [
    "#Read in the lemmtized data\n",
    "smallData = pd.read_csv(\"lemmatizedArticles.csv\")"
   ]
  },
  {
   "cell_type": "code",
   "execution_count": 3,
   "metadata": {},
   "outputs": [],
   "source": [
    "#Use only articles of sizable length\n",
    "minLemmaLen = 100\n",
    "smallerData = smallData[smallData[\"len\"]>minLemmaLen]"
   ]
  },
  {
   "cell_type": "code",
   "execution_count": 4,
   "metadata": {},
   "outputs": [
    {
     "name": "stdout",
     "output_type": "stream",
     "text": [
      "Number of Very Right articles:  56344\n",
      "Number of Slightly Right articles:  43501\n",
      "Number of Center Articles:  27245\n",
      "Number of Slightly Left articles:  38238\n",
      "Number of Very Left articles:  31707\n"
     ]
    }
   ],
   "source": [
    "#Split articles into their respective bias categories\n",
    "vr = smallerData[smallerData[\"Rating\"]==2]\n",
    "sr = smallerData[smallerData[\"Rating\"]==1]\n",
    "c = smallerData[smallerData[\"Rating\"]==0]\n",
    "sl = smallerData[smallerData[\"Rating\"]==-1]\n",
    "vl = smallerData[smallerData[\"Rating\"]==-2]\n",
    "print(\"Number of Very Right articles: \",len(vr))\n",
    "print(\"Number of Slightly Right articles: \",len(sr))\n",
    "print(\"Number of Center Articles: \",len(c))\n",
    "print(\"Number of Slightly Left articles: \",len(sl))\n",
    "print(\"Number of Very Left articles: \",len(vl))\n"
   ]
  },
  {
   "cell_type": "code",
   "execution_count": 5,
   "metadata": {},
   "outputs": [
    {
     "name": "stdout",
     "output_type": "stream",
     "text": [
      "Total number of articles analyzed:  136225  ( 27245.0  per category )\n"
     ]
    }
   ],
   "source": [
    "#Get an equal subset from each category\n",
    "sn=min(len(vr),len(sr),len(c),len(sl),len(vl))\n",
    "newData = pd.concat([vr.sample(n=sn),sr.sample(n=sn),c.sample(n=sn),sl.sample(n=sn),vl.sample(n=sn)])\n",
    "print(\"Total number of articles analyzed: \",len(newData),\" (\",len(newData)/5,\" per category )\")"
   ]
  },
  {
   "cell_type": "code",
   "execution_count": 6,
   "metadata": {},
   "outputs": [],
   "source": [
    "#Function to rejoin all our lemmatized words into a string\n",
    "def proc(tex):\n",
    "    return \" \".join(tex)\n",
    "\n",
    "#Get our X values and y values. \n",
    "X = newData['lemText']\n",
    "#First, try to put all articles in the proper of the 5 categories\n",
    "y = (newData['Rating'])"
   ]
  },
  {
   "cell_type": "code",
   "execution_count": 23,
   "metadata": {},
   "outputs": [
    {
     "ename": "KeyboardInterrupt",
     "evalue": "",
     "output_type": "error",
     "traceback": [
      "\u001b[0;31m---------------------------------------------------------------------------\u001b[0m",
      "\u001b[0;31mKeyboardInterrupt\u001b[0m                         Traceback (most recent call last)",
      "\u001b[0;32m<ipython-input-23-1e14206f8208>\u001b[0m in \u001b[0;36m<module>\u001b[0;34m\u001b[0m\n\u001b[1;32m      1\u001b[0m \u001b[0;31m#Bag of words analysis\u001b[0m\u001b[0;34m\u001b[0m\u001b[0;34m\u001b[0m\u001b[0;34m\u001b[0m\u001b[0m\n\u001b[0;32m----> 2\u001b[0;31m \u001b[0mbow_transformer\u001b[0m\u001b[0;34m=\u001b[0m\u001b[0mCountVectorizer\u001b[0m\u001b[0;34m(\u001b[0m\u001b[0manalyzer\u001b[0m\u001b[0;34m=\u001b[0m\u001b[0mproc\u001b[0m\u001b[0;34m)\u001b[0m\u001b[0;34m.\u001b[0m\u001b[0mfit_transform\u001b[0m\u001b[0;34m(\u001b[0m\u001b[0mX\u001b[0m\u001b[0;34m)\u001b[0m\u001b[0;34m\u001b[0m\u001b[0;34m\u001b[0m\u001b[0m\n\u001b[0m\u001b[1;32m      3\u001b[0m X_train, X_test, y_train, y_test = train_test_split(bow_transformer, y\n\u001b[1;32m      4\u001b[0m                                   ,test_size=0.1, random_state=1234)\n",
      "\u001b[0;32m~/anaconda3/lib/python3.8/site-packages/sklearn/feature_extraction/text.py\u001b[0m in \u001b[0;36mfit_transform\u001b[0;34m(self, raw_documents, y)\u001b[0m\n\u001b[1;32m   1196\u001b[0m         \u001b[0mmax_features\u001b[0m \u001b[0;34m=\u001b[0m \u001b[0mself\u001b[0m\u001b[0;34m.\u001b[0m\u001b[0mmax_features\u001b[0m\u001b[0;34m\u001b[0m\u001b[0;34m\u001b[0m\u001b[0m\n\u001b[1;32m   1197\u001b[0m \u001b[0;34m\u001b[0m\u001b[0m\n\u001b[0;32m-> 1198\u001b[0;31m         vocabulary, X = self._count_vocab(raw_documents,\n\u001b[0m\u001b[1;32m   1199\u001b[0m                                           self.fixed_vocabulary_)\n\u001b[1;32m   1200\u001b[0m \u001b[0;34m\u001b[0m\u001b[0m\n",
      "\u001b[0;32m~/anaconda3/lib/python3.8/site-packages/sklearn/feature_extraction/text.py\u001b[0m in \u001b[0;36m_count_vocab\u001b[0;34m(self, raw_documents, fixed_vocab)\u001b[0m\n\u001b[1;32m   1106\u001b[0m         \u001b[0mvalues\u001b[0m \u001b[0;34m=\u001b[0m \u001b[0m_make_int_array\u001b[0m\u001b[0;34m(\u001b[0m\u001b[0;34m)\u001b[0m\u001b[0;34m\u001b[0m\u001b[0;34m\u001b[0m\u001b[0m\n\u001b[1;32m   1107\u001b[0m         \u001b[0mindptr\u001b[0m\u001b[0;34m.\u001b[0m\u001b[0mappend\u001b[0m\u001b[0;34m(\u001b[0m\u001b[0;36m0\u001b[0m\u001b[0;34m)\u001b[0m\u001b[0;34m\u001b[0m\u001b[0;34m\u001b[0m\u001b[0m\n\u001b[0;32m-> 1108\u001b[0;31m         \u001b[0;32mfor\u001b[0m \u001b[0mdoc\u001b[0m \u001b[0;32min\u001b[0m \u001b[0mraw_documents\u001b[0m\u001b[0;34m:\u001b[0m\u001b[0;34m\u001b[0m\u001b[0;34m\u001b[0m\u001b[0m\n\u001b[0m\u001b[1;32m   1109\u001b[0m             \u001b[0mfeature_counter\u001b[0m \u001b[0;34m=\u001b[0m \u001b[0;34m{\u001b[0m\u001b[0;34m}\u001b[0m\u001b[0;34m\u001b[0m\u001b[0;34m\u001b[0m\u001b[0m\n\u001b[1;32m   1110\u001b[0m             \u001b[0;32mfor\u001b[0m \u001b[0mfeature\u001b[0m \u001b[0;32min\u001b[0m \u001b[0manalyze\u001b[0m\u001b[0;34m(\u001b[0m\u001b[0mdoc\u001b[0m\u001b[0;34m)\u001b[0m\u001b[0;34m:\u001b[0m\u001b[0;34m\u001b[0m\u001b[0;34m\u001b[0m\u001b[0m\n",
      "\u001b[0;31mKeyboardInterrupt\u001b[0m: "
     ]
    }
   ],
   "source": [
    "#Bag of words analysis\n",
    "bow_transformer=CountVectorizer(analyzer=proc).fit_transform(X)\n",
    "X_train, X_test, y_train, y_test = train_test_split(bow_transformer, y\n",
    "                                  ,test_size=0.1, random_state=1234)"
   ]
  },
  {
   "cell_type": "code",
   "execution_count": 27,
   "metadata": {},
   "outputs": [
    {
     "name": "stdout",
     "output_type": "stream",
     "text": [
      "{'C': 500, 'break_ties': False, 'cache_size': 200, 'class_weight': None, 'coef0': 0.0, 'decision_function_shape': 'ovr', 'degree': 3, 'gamma': 8e-07, 'kernel': 'rbf', 'max_iter': -1, 'probability': False, 'random_state': None, 'shrinking': True, 'tol': 0.001, 'verbose': False}\n"
     ]
    }
   ],
   "source": [
    "model = svm.SVC(C=10, kernel='rbf', gamma=1e-5)\n",
    "model.fit(X_train, y_train)"
   ]
  },
  {
   "cell_type": "code",
   "execution_count": 28,
   "metadata": {},
   "outputs": [
    {
     "name": "stdout",
     "output_type": "stream",
     "text": [
      "0.3524921089334214\n"
     ]
    }
   ],
   "source": [
    "print(model.score(X_test,y_test))"
   ]
  },
  {
   "cell_type": "code",
   "execution_count": 11,
   "metadata": {},
   "outputs": [
    {
     "data": {
      "text/plain": [
       "0.4420884814667198"
      ]
     },
     "execution_count": 11,
     "metadata": {},
     "output_type": "execute_result"
    }
   ],
   "source": [
    "model.score(X_test, y_test)"
   ]
  },
  {
   "cell_type": "code",
   "execution_count": 21,
   "metadata": {},
   "outputs": [
    {
     "data": {
      "text/plain": [
       "0.5858907931446792"
      ]
     },
     "execution_count": 21,
     "metadata": {},
     "output_type": "execute_result"
    }
   ],
   "source": [
    "modelSide.score(X_test_side, y_test_side)"
   ]
  },
  {
   "cell_type": "code",
   "execution_count": null,
   "metadata": {},
   "outputs": [],
   "source": [
    "modelExtreme.score(X_test_extreme, y_test_extreme)"
   ]
  },
  {
   "cell_type": "code",
   "execution_count": 29,
   "metadata": {},
   "outputs": [
    {
     "name": "stdout",
     "output_type": "stream",
     "text": [
      "              precision    recall  f1-score   support\n",
      "\n",
      "          -2       0.39      0.37      0.38      2761\n",
      "          -1       0.33      0.37      0.35      2725\n",
      "           0       0.38      0.41      0.40      2740\n",
      "           1       0.31      0.31      0.31      2683\n",
      "           2       0.36      0.29      0.32      2714\n",
      "\n",
      "    accuracy                           0.35     13623\n",
      "   macro avg       0.35      0.35      0.35     13623\n",
      "weighted avg       0.35      0.35      0.35     13623\n",
      "\n",
      "Confusion Matrix\n",
      "[[0.37305324 0.21513944 0.16008693 0.15537849 0.09634191]\n",
      " [0.17798165 0.36954128 0.15266055 0.16220183 0.13761468]\n",
      " [0.14051095 0.15036496 0.41313869 0.16021898 0.13576642]\n",
      " [0.14573239 0.20872158 0.1721953  0.31047335 0.16287738]\n",
      " [0.13633014 0.17649226 0.183493   0.20891673 0.29476787]]\n"
     ]
    },
    {
     "data": {
      "image/png": "[encoded data removed]",
      "text/plain": [
       "<Figure size 432x288 with 2 Axes>"
      ]
     },
     "metadata": {
      "needs_background": "light"
     },
     "output_type": "display_data"
    }
   ],
   "source": [
    "\n",
    "#This cell taken from \n",
    "# getting the predictions of the Validation Set...\n",
    "predictions = model.predict(X_test)\n",
    "# getting the Precision, Recall, F1-Score\n",
    "print(classification_report(y_test,predictions))\n",
    "disp = plot_confusion_matrix(model, X_test, y_test,\n",
    "                                 display_labels=[-2,-1,0,1,2],\n",
    "                                 cmap=plt.cm.Blues,\n",
    "                                 normalize='true')\n",
    "title=\"Confusion Matrix\"\n",
    "disp.ax_.set_title(title)\n",
    "\n",
    "print(title)\n",
    "print(disp.confusion_matrix)\n"
   ]
  },
  {
   "cell_type": "code",
   "execution_count": 22,
   "metadata": {},
   "outputs": [
    {
     "name": "stdout",
     "output_type": "stream",
     "text": [
      "              precision    recall  f1-score   support\n",
      "\n",
      "          -1       0.58      0.70      0.64      5025\n",
      "           0       0.66      0.31      0.42      2549\n",
      "           1       0.57      0.61      0.59      4971\n",
      "\n",
      "    accuracy                           0.59     12545\n",
      "   macro avg       0.60      0.54      0.55     12545\n",
      "weighted avg       0.59      0.59      0.57     12545\n",
      "\n",
      "Confusion Matrix\n",
      "[[0.70268657 0.03442786 0.26288557]\n",
      " [0.3185563  0.30953315 0.37191055]\n",
      " [0.34298934 0.04747536 0.6095353 ]]\n"
     ]
    },
    {
     "data": {
      "image/png": "[encoded data removed]",
      "text/plain": [
       "<Figure size 432x288 with 2 Axes>"
      ]
     },
     "metadata": {
      "needs_background": "light"
     },
     "output_type": "display_data"
    }
   ],
   "source": [
    "\n",
    "#This cell taken from \n",
    "# getting the predictions of the Validation Set...\n",
    "predictionsSide = modelSide.predict(X_test_side)\n",
    "# getting the Precision, Recall, F1-Score\n",
    "print(classification_report(y_test_side,predictionsSide))\n",
    "dispSide = plot_confusion_matrix(modelSide, X_test_side, y_test_side,\n",
    "                                 display_labels=['Left','Center','Right'],\n",
    "                                 cmap=plt.cm.Blues,\n",
    "                                 normalize='true')\n",
    "title=\"Confusion Matrix\"\n",
    "dispSide.ax_.set_title(title)\n",
    "\n",
    "print(title)\n",
    "print(dispSide.confusion_matrix)\n"
   ]
  },
  {
   "cell_type": "code",
   "execution_count": null,
   "metadata": {},
   "outputs": [],
   "source": [
    "\n",
    "#This cell taken from \n",
    "# getting the predictions of the Validation Set...\n",
    "predictionsExtreme = modelExtreme.predict(X_test_extreme)\n",
    "# getting the Precision, Recall, F1-Score\n",
    "print(classification_report(y_test_extreme,predictionsExtreme))\n",
    "dispExtreme = plot_confusion_matrix(modelExtreme, X_test_extreme, y_test_extreme,\n",
    "                                 display_labels=['Neutral','Slight Bias','Strong Bias'],\n",
    "                                 cmap=plt.cm.Blues,\n",
    "                                 normalize='true')\n",
    "title=\"Confusion Matrix\"\n",
    "dispExtreme.ax_.set_title(title)\n",
    "\n",
    "print(title)\n",
    "print(dispExtreme.confusion_matrix)\n"
   ]
  },
  {
   "cell_type": "code",
   "execution_count": 13,
   "metadata": {},
   "outputs": [],
   "source": [
    "\n",
    "pickle.dump(model,open('fullyTrainedModel.sav','wb'))\n",
    "pickle.dump(modelSide,open('fullyTrainedModelSide.sav','wb'))\n",
    "pickle.dump(modelExtreme,open('fullyTrainedModelExtreme.sav','wb'))"
   ]
  },
  {
   "cell_type": "code",
   "execution_count": 141,
   "metadata": {},
   "outputs": [
    {
     "name": "stdout",
     "output_type": "stream",
     "text": [
      "Normalized confusion matrix\n",
      "[[0.43269231 0.20192308 0.16346154 0.13461538 0.06730769]\n",
      " [0.1547619  0.42857143 0.17857143 0.08333333 0.1547619 ]\n",
      " [0.12087912 0.14285714 0.48351648 0.0989011  0.15384615]\n",
      " [0.15730337 0.17977528 0.19101124 0.34831461 0.12359551]\n",
      " [0.19626168 0.25233645 0.09345794 0.14018692 0.31775701]]\n"
     ]
    },
    {
     "data": {
      "image/png": "[encoded data removed]",
      "text/plain": [
       "<Figure size 432x288 with 2 Axes>"
      ]
     },
     "metadata": {
      "needs_background": "light"
     },
     "output_type": "display_data"
    }
   ],
   "source": []
  },
  {
   "cell_type": "code",
   "execution_count": null,
   "metadata": {},
   "outputs": [],
   "source": []
  }
 ],
 "metadata": {
  "kernelspec": {
   "display_name": "Python 3",
   "language": "python",
   "name": "python3"
  },
  "language_info": {
   "codemirror_mode": {
    "name": "ipython",
    "version": 3
   },
   "file_extension": ".py",
   "mimetype": "text/x-python",
   "name": "python",
   "nbconvert_exporter": "python",
   "pygments_lexer": "ipython3",
   "version": "3.8.5"
  }
 },
 "nbformat": 4,
 "nbformat_minor": 4
}
