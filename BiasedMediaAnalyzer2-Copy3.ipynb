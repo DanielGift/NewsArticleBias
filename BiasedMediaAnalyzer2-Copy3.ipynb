{
 "cells": [
  {
   "cell_type": "code",
   "execution_count": 1,
   "metadata": {},
   "outputs": [],
   "source": [
    "#import statements\n",
    "import pandas as pd\n",
    "import numpy as np\n",
    "from sklearn.model_selection import train_test_split\n",
    "from collections import Counter\n",
    "\n",
    "from sklearn.feature_extraction.text import TfidfVectorizer\n",
    "from sklearn.feature_extraction import text\n",
    "from sklearn.feature_extraction.text import CountVectorizer\n",
    "# import nltk\n",
    "# from nltk.corpus import stopwords\n",
    "# from nltk.stem import WordNetLemmatizer\n",
    "# import string\n",
    "# from sklearn.preprocessing import LabelEncoder\n",
    "# nltk.download('punkt')\n",
    "# nltk.download('averaged_perceptron_tagger')\n",
    "# nltk.download('wordnet')\n",
    "# from nltk.corpus import stopwords\n",
    "# sw = (stopwords.words('english'))\n",
    "# import nltk\n",
    "# from nltk.tag import pos_tag\n",
    "# from nltk.tokenize import RegexpTokenizer\n",
    "# from sklearn.feature_extraction.text import CountVectorizer\n",
    "# from sklearn.model_selection import train_test_split\n",
    "from sklearn.feature_extraction.text import TfidfTransformer\n",
    "# from sklearn.naive_bayes import MultinomialNB\n",
    "from sklearn import svm\n",
    "# from sklearn.model_selection import GridSearchCV\n",
    "from sklearn.metrics import confusion_matrix\n",
    "# import numpy as np\n",
    "import itertools\n",
    "import matplotlib.pyplot as plt\n",
    "from sklearn.metrics import classification_report\n",
    "from sklearn.metrics import plot_confusion_matrix\n",
    "import pickle"
   ]
  },
  {
   "cell_type": "code",
   "execution_count": 2,
   "metadata": {},
   "outputs": [],
   "source": [
    "#Read in the lemmtized data\n",
    "smallData = pd.read_csv(\"lemmatizedArticles.csv\")"
   ]
  },
  {
   "cell_type": "code",
   "execution_count": 3,
   "metadata": {},
   "outputs": [],
   "source": [
    "#Use only articles of sizable length\n",
    "minLemmaLen = 100\n",
    "smallerData = smallData[smallData[\"len\"]>minLemmaLen]"
   ]
  },
  {
   "cell_type": "code",
   "execution_count": 4,
   "metadata": {},
   "outputs": [
    {
     "name": "stdout",
     "output_type": "stream",
     "text": [
      "Number of Very Right articles:  51111\n",
      "Number of Slightly Right articles:  39317\n",
      "Number of Center Articles:  21734\n",
      "Number of Slightly Left articles:  32076\n",
      "Number of Very Left articles:  28862\n"
     ]
    }
   ],
   "source": [
    "#Split articles into their respective bias categories\n",
    "vr = smallerData[smallerData[\"Rating\"]==2]\n",
    "sr = smallerData[smallerData[\"Rating\"]==1]\n",
    "c = smallerData[smallerData[\"Rating\"]==0]\n",
    "sl = smallerData[smallerData[\"Rating\"]==-1]\n",
    "vl = smallerData[smallerData[\"Rating\"]==-2]\n",
    "print(\"Number of Very Right articles: \",len(vr))\n",
    "print(\"Number of Slightly Right articles: \",len(sr))\n",
    "print(\"Number of Center Articles: \",len(c))\n",
    "print(\"Number of Slightly Left articles: \",len(sl))\n",
    "print(\"Number of Very Left articles: \",len(vl))\n"
   ]
  },
  {
   "cell_type": "code",
   "execution_count": 5,
   "metadata": {},
   "outputs": [
    {
     "name": "stdout",
     "output_type": "stream",
     "text": [
      "Total number of articles analyzed:  108670  ( 21734.0  per category )\n"
     ]
    }
   ],
   "source": [
    "#Get an equal subset from each category\n",
    "sn=min(len(vr),len(sr),len(c),len(sl),len(vl))\n",
    "newData = pd.concat([vr.sample(n=sn),sr.sample(n=sn),c.sample(n=sn),sl.sample(n=sn),vl.sample(n=sn)])\n",
    "print(\"Total number of articles analyzed: \",len(newData),\" (\",len(newData)/5,\" per category )\")"
   ]
  },
  {
   "cell_type": "code",
   "execution_count": 6,
   "metadata": {},
   "outputs": [],
   "source": [
    "#Function to rejoin all our lemmatized words into a string\n",
    "def proc(tex):\n",
    "    temp = tex[2:-2].split(\"', '\")\n",
    "    return \" \".join(temp)\n",
    "\n",
    "newData['updatedLem'] = newData[\"lemText\"].apply(proc)\n",
    "#Get our X values and y values. \n",
    "X = newData['updatedLem']\n",
    "#First, try to put all articles in the proper of the 5 categories\n",
    "y = (newData['Rating'])"
   ]
  },
  {
   "cell_type": "code",
   "execution_count": 7,
   "metadata": {},
   "outputs": [],
   "source": [
    "#Bag of words analysis\n",
    "transModel = CountVectorizer()\n",
    "transModel.fit(X)\n",
    "bow_transformer=transModel.transform(X)\n",
    "X_train, X_test, y_train, y_test = train_test_split(bow_transformer, y\n",
    "                                  ,test_size=0.01, random_state=1234)"
   ]
  },
  {
   "cell_type": "code",
   "execution_count": 20,
   "metadata": {},
   "outputs": [],
   "source": [
    "pickle.dump(transModel,open('countVectorizerModelSmall.sav','wb'))"
   ]
  },
  {
   "cell_type": "code",
   "execution_count": 15,
   "metadata": {},
   "outputs": [],
   "source": [
    "_, X_small, _, y_small = train_test_split(X_train, y_train\n",
    "                                  ,test_size=0.1, random_state=123)"
   ]
  },
  {
   "cell_type": "code",
   "execution_count": 12,
   "metadata": {},
   "outputs": [
    {
     "name": "stdout",
     "output_type": "stream",
     "text": [
      "1e-06 1e-06\n",
      "*0.19330855018587362\n",
      "1e-06 1e-05\n",
      "0.19330855018587362\n",
      "1e-06 0.0001\n",
      "0.19330855018587362\n",
      "1e-06 0.001\n",
      "0.19330855018587362\n",
      "1e-06 0.01\n",
      "0.19330855018587362\n",
      "1e-06 0.1\n",
      "0.19330855018587362\n",
      "1e-06 1\n",
      "0.19330855018587362\n",
      "1e-06 10\n",
      "0.19330855018587362\n",
      "1e-06 100\n",
      "0.19330855018587362\n",
      "1e-06 1000\n",
      "0.19330855018587362\n",
      "1e-06 10000\n",
      "0.19330855018587362\n",
      "1e-05 1e-06\n",
      "0.19330855018587362\n",
      "1e-05 1e-05\n",
      "0.19330855018587362\n",
      "1e-05 0.0001\n",
      "0.19330855018587362\n",
      "1e-05 0.001\n",
      "0.19330855018587362\n",
      "1e-05 0.01\n",
      "0.19330855018587362\n",
      "1e-05 0.1\n",
      "0.19330855018587362\n",
      "1e-05 1\n",
      "0.19330855018587362\n",
      "1e-05 10\n",
      "0.19330855018587362\n",
      "1e-05 100\n",
      "0.19330855018587362\n",
      "1e-05 1000\n",
      "0.19330855018587362\n",
      "1e-05 10000\n",
      "0.19330855018587362\n",
      "0.0001 1e-06\n",
      "0.19330855018587362\n",
      "0.0001 1e-05\n",
      "0.19330855018587362\n",
      "0.0001 0.0001\n",
      "0.19330855018587362\n",
      "0.0001 0.001\n",
      "0.19330855018587362\n",
      "0.0001 0.01\n",
      "0.19330855018587362\n",
      "0.0001 0.1\n",
      "0.19330855018587362\n",
      "0.0001 1\n",
      "0.19330855018587362\n",
      "0.0001 10\n",
      "0.19330855018587362\n",
      "0.0001 100\n",
      "0.19330855018587362\n",
      "0.0001 1000\n",
      "0.19330855018587362\n",
      "0.0001 10000\n",
      "0.19330855018587362\n",
      "0.001 1e-06\n",
      "0.19330855018587362\n",
      "0.001 1e-05\n",
      "0.19330855018587362\n",
      "0.001 0.0001\n",
      "0.19330855018587362\n",
      "0.001 0.001\n",
      "0.19330855018587362\n",
      "0.001 0.01\n",
      "0.19330855018587362\n",
      "0.001 0.1\n",
      "0.19330855018587362\n",
      "0.001 1\n",
      "0.19330855018587362\n",
      "0.001 10\n",
      "0.19330855018587362\n",
      "0.001 100\n",
      "0.19330855018587362\n",
      "0.001 1000\n",
      "0.19330855018587362\n",
      "0.001 10000\n",
      "0.19330855018587362\n",
      "0.01 1e-06\n",
      "0.19330855018587362\n",
      "0.01 1e-05\n",
      "0.19330855018587362\n",
      "0.01 0.0001\n",
      "0.19330855018587362\n",
      "0.01 0.001\n",
      "0.19330855018587362\n",
      "0.01 0.01\n",
      "0.19330855018587362\n",
      "0.01 0.1\n",
      "0.19330855018587362\n",
      "0.01 1\n",
      "0.19330855018587362\n",
      "0.01 10\n",
      "0.19330855018587362\n",
      "0.01 100\n",
      "0.19330855018587362\n",
      "0.01 1000\n",
      "0.19330855018587362\n",
      "0.01 10000\n",
      "0.19330855018587362\n",
      "0.1 1e-06\n",
      "0.19330855018587362\n",
      "0.1 1e-05\n",
      "0.19330855018587362\n",
      "0.1 0.0001\n",
      "0.19330855018587362\n",
      "0.1 0.001\n",
      "0.19330855018587362\n",
      "0.1 0.01\n",
      "0.19330855018587362\n",
      "0.1 0.1\n",
      "0.19330855018587362\n",
      "0.1 1\n",
      "0.19330855018587362\n",
      "0.1 10\n",
      "0.19330855018587362\n",
      "0.1 100\n",
      "0.19330855018587362\n",
      "0.1 1000\n",
      "0.19330855018587362\n",
      "0.1 10000\n",
      "0.19330855018587362\n",
      "1 1e-06\n",
      "0.19330855018587362\n",
      "1 1e-05\n",
      "0.19330855018587362\n",
      "1 0.0001\n",
      "*0.29182156133828996\n",
      "1 0.001\n",
      "*0.39684014869888473\n",
      "1 0.01\n",
      "0.2611524163568773\n",
      "1 0.1\n",
      "0.2016728624535316\n",
      "1 1\n",
      "0.19609665427509293\n",
      "1 10\n",
      "0.19609665427509293\n",
      "1 100\n",
      "0.19609665427509293\n",
      "1 1000\n",
      "0.19609665427509293\n",
      "1 10000\n",
      "0.19609665427509293\n",
      "10 1e-06\n",
      "0.19423791821561337\n",
      "10 1e-05\n",
      "0.3159851301115242\n",
      "10 0.0001\n",
      "*0.43773234200743494\n",
      "10 0.001\n",
      "*0.44052044609665425\n",
      "10 0.01\n",
      "0.27230483271375466\n",
      "10 0.1\n",
      "0.2016728624535316\n",
      "10 1\n",
      "0.19609665427509293\n",
      "10 10\n",
      "0.19609665427509293\n",
      "10 100\n",
      "0.19609665427509293\n",
      "10 1000\n",
      "0.19609665427509293\n",
      "10 10000\n",
      "0.19609665427509293\n",
      "100 1e-06\n",
      "0.31691449814126393\n",
      "100 1e-05\n",
      "0.4349442379182156\n",
      "100 0.0001\n",
      "0.42936802973977695\n",
      "100 0.001\n",
      "0.44052044609665425\n",
      "100 0.01\n",
      "0.27230483271375466\n",
      "100 0.1\n",
      "0.2016728624535316\n",
      "100 1\n",
      "0.19609665427509293\n",
      "100 10\n",
      "0.19609665427509293\n",
      "100 100\n",
      "0.19609665427509293\n",
      "100 1000\n",
      "0.19609665427509293\n",
      "100 10000\n",
      "0.19609665427509293\n",
      "1000 1e-06\n",
      "0.43215613382899626\n",
      "1000 1e-05\n",
      "0.4154275092936803\n",
      "1000 0.0001\n",
      "0.42936802973977695\n",
      "1000 0.001\n",
      "0.44052044609665425\n",
      "1000 0.01\n",
      "0.27230483271375466\n",
      "1000 0.1\n",
      "0.2016728624535316\n",
      "1000 1\n",
      "0.19609665427509293\n",
      "1000 10\n",
      "0.19609665427509293\n",
      "1000 100\n",
      "0.19609665427509293\n",
      "1000 1000\n",
      "0.19609665427509293\n",
      "1000 10000\n",
      "0.19609665427509293\n",
      "10000 1e-06\n",
      "0.41263940520446096\n",
      "10000 1e-05\n",
      "0.4154275092936803\n",
      "10000 0.0001\n",
      "0.42936802973977695\n",
      "10000 0.001\n",
      "0.44052044609665425\n",
      "10000 0.01\n",
      "0.27230483271375466\n",
      "10000 0.1\n",
      "0.2016728624535316\n",
      "10000 1\n",
      "0.19609665427509293\n",
      "10000 10\n",
      "0.19609665427509293\n",
      "10000 100\n",
      "0.19609665427509293\n",
      "10000 1000\n",
      "0.19609665427509293\n",
      "10000 10000\n",
      "0.19609665427509293\n",
      "--------\n",
      "Best C value:  10\n",
      "Best Gamma value:  0.001\n",
      "Best score:  0.44052044609665425\n"
     ]
    }
   ],
   "source": [
    "firstBestScore = 0\n",
    "firstBestC = 0\n",
    "firstBestGamma = 0\n",
    "for C in [1e-6,1e-5,1e-4,1e-3,1e-2,1e-1,1,10,100,1000,10000]:\n",
    "    for gamma in [1e-6,1e-5,1e-4,1e-3,1e-2,1e-1,1,10,100,1000,10000]:\n",
    "        print(C,gamma)\n",
    "        model = svm.SVC(C=C, kernel='rbf', gamma=gamma)\n",
    "        model.fit(X_test, y_test)\n",
    "        score = model.score(X_small, y_small)\n",
    "        \n",
    "        if score > firstBestScore:\n",
    "            firstBestC = C\n",
    "            firstBestGamma = gamma\n",
    "            firstBestScore = score\n",
    "            print(\"*\"+str(score))\n",
    "        else:\n",
    "            print(score)\n",
    "print(\"--------\")\n",
    "print(\"Best C value: \",firstBestC)\n",
    "print(\"Best Gamma value: \",firstBestGamma)\n",
    "print(\"Best score: \", firstBestScore)"
   ]
  },
  {
   "cell_type": "code",
   "execution_count": 16,
   "metadata": {},
   "outputs": [
    {
     "name": "stdout",
     "output_type": "stream",
     "text": [
      "[LibSVM]403.9879298210144\n"
     ]
    }
   ],
   "source": [
    "from time import time\n",
    "model = svm.SVC(C=10, kernel='rbf', gamma=1e-3,verbose=1)\n",
    "t1 = time()\n",
    "model.fit(X_small, y_small)\n",
    "print(time()-t1)"
   ]
  },
  {
   "cell_type": "code",
   "execution_count": 17,
   "metadata": {},
   "outputs": [
    {
     "name": "stdout",
     "output_type": "stream",
     "text": [
      "0.6062557497700092\n"
     ]
    }
   ],
   "source": [
    "print(model.score(X_test,y_test))"
   ]
  },
  {
   "cell_type": "code",
   "execution_count": 18,
   "metadata": {},
   "outputs": [
    {
     "name": "stdout",
     "output_type": "stream",
     "text": [
      "              precision    recall  f1-score   support\n",
      "\n",
      "          -2       0.66      0.63      0.65       221\n",
      "          -1       0.66      0.59      0.62       222\n",
      "           0       0.66      0.64      0.65       220\n",
      "           1       0.49      0.60      0.54       199\n",
      "           2       0.59      0.57      0.58       225\n",
      "\n",
      "    accuracy                           0.61      1087\n",
      "   macro avg       0.61      0.61      0.61      1087\n",
      "weighted avg       0.61      0.61      0.61      1087\n",
      "\n",
      "Confusion Matrix:\n",
      "[[0.62895928 0.09049774 0.07239819 0.12217195 0.08597285]\n",
      " [0.1036036  0.59459459 0.08108108 0.12612613 0.09459459]\n",
      " [0.08636364 0.09545455 0.63636364 0.09090909 0.09090909]\n",
      " [0.06532663 0.08040201 0.11055276 0.60301508 0.14070352]\n",
      " [0.07111111 0.05333333 0.07555556 0.23111111 0.56888889]]\n"
     ]
    },
    {
     "data": {
      "image/png": "[encoded data removed]",
      "text/plain": [
       "<Figure size 432x288 with 2 Axes>"
      ]
     },
     "metadata": {
      "needs_background": "light"
     },
     "output_type": "display_data"
    }
   ],
   "source": [
    "predictions = model.predict(X_test)\n",
    "# getting the Precision, Recall, F1-Score\n",
    "print(classification_report(y_test,predictions))\n",
    "disp = plot_confusion_matrix(model, X_test, y_test,\n",
    "                                 display_labels=[-2,-1,0,1,2],\n",
    "                                 cmap=plt.cm.Blues,\n",
    "                                 normalize='true')\n",
    "title=\"Confusion Matrix\"\n",
    "disp.ax_.set_title(title)\n",
    "\n",
    "print(title+\":\")\n",
    "print(disp.confusion_matrix)\n"
   ]
  },
  {
   "cell_type": "code",
   "execution_count": 19,
   "metadata": {},
   "outputs": [],
   "source": [
    "pickle.dump(model,open('fullyTrainedModelSmall.sav','wb'))\n"
   ]
  },
  {
   "cell_type": "code",
   "execution_count": 24,
   "metadata": {},
   "outputs": [
    {
     "name": "stdout",
     "output_type": "stream",
     "text": [
      "3442040\n",
      "3098128\n"
     ]
    },
    {
     "data": {
      "text/plain": [
       "array([ 0, -2,  2,  0, -1,  0,  0,  2, -2, -2])"
      ]
     },
     "execution_count": 24,
     "metadata": {},
     "output_type": "execute_result"
    }
   ],
   "source": [
    "print(bow_transformer.size)\n",
    "print(X_train.size)\n",
    "model.predict(X_test[:10])"
   ]
  },
  {
   "cell_type": "code",
   "execution_count": 141,
   "metadata": {},
   "outputs": [
    {
     "name": "stdout",
     "output_type": "stream",
     "text": [
      "Normalized confusion matrix\n",
      "[[0.43269231 0.20192308 0.16346154 0.13461538 0.06730769]\n",
      " [0.1547619  0.42857143 0.17857143 0.08333333 0.1547619 ]\n",
      " [0.12087912 0.14285714 0.48351648 0.0989011  0.15384615]\n",
      " [0.15730337 0.17977528 0.19101124 0.34831461 0.12359551]\n",
      " [0.19626168 0.25233645 0.09345794 0.14018692 0.31775701]]\n"
     ]
    },
    {
     "data": {
      "image/png": "[encoded data removed]",
      "text/plain": [
       "<Figure size 432x288 with 2 Axes>"
      ]
     },
     "metadata": {
      "needs_background": "light"
     },
     "output_type": "display_data"
    }
   ],
   "source": []
  }
 ],
 "metadata": {
  "kernelspec": {
   "display_name": "Python 3",
   "language": "python",
   "name": "python3"
  },
  "language_info": {
   "codemirror_mode": {
    "name": "ipython",
    "version": 3
   },
   "file_extension": ".py",
   "mimetype": "text/x-python",
   "name": "python",
   "nbconvert_exporter": "python",
   "pygments_lexer": "ipython3",
   "version": "3.8.5"
  }
 },
 "nbformat": 4,
 "nbformat_minor": 4
}
